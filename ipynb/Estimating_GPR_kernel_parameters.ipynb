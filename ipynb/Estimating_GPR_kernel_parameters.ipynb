{
 "cells": [
  {
   "cell_type": "markdown",
   "metadata": {},
   "source": [
    "# Import required packages:"
   ]
  },
  {
   "cell_type": "code",
   "execution_count": 5,
   "metadata": {},
   "outputs": [],
   "source": [
    "import sys\n",
    "import math\n",
    "import numpy as np\n",
    "from scipy.optimize import minimize\n",
    "import matplotlib.pyplot as plt\n",
    "\n",
    "sys.path.append('../src/gaussianProcesses')\n",
    "from core import GPMarginalLogLikelihood\n",
    "from kernels import SquaredExponentialKernel, Kernel"
   ]
  },
  {
   "cell_type": "markdown",
   "metadata": {},
   "source": [
    "# Load data:"
   ]
  },
  {
   "cell_type": "code",
   "execution_count": 6,
   "metadata": {},
   "outputs": [
    {
     "ename": "FileNotFoundError",
     "evalue": "[Errno 2] No such file or directory: '../figScriptsRamussenAndWilliams06/ch2/results/dataFig2_5_l1.00_sf1.00_sn0.10.npz'",
     "output_type": "error",
     "traceback": [
      "\u001b[0;31m---------------------------------------------------------------------------\u001b[0m",
      "\u001b[0;31mFileNotFoundError\u001b[0m                         Traceback (most recent call last)",
      "\u001b[0;32m<ipython-input-6-d83b6ad5c31a>\u001b[0m in \u001b[0;36m<module>\u001b[0;34m\u001b[0m\n\u001b[1;32m     10\u001b[0m \u001b[0;34m\u001b[0m\u001b[0m\n\u001b[1;32m     11\u001b[0m \u001b[0mdataFilename\u001b[0m \u001b[0;34m=\u001b[0m \u001b[0mdataFilenamePattern\u001b[0m\u001b[0;34m%\u001b[0m\u001b[0;34m(\u001b[0m\u001b[0mtrueL\u001b[0m\u001b[0;34m,\u001b[0m \u001b[0mtrueSf\u001b[0m\u001b[0;34m,\u001b[0m \u001b[0mtrueSn\u001b[0m\u001b[0;34m)\u001b[0m\u001b[0;34m\u001b[0m\u001b[0m\n\u001b[0;32m---> 12\u001b[0;31m \u001b[0mloadRes\u001b[0m \u001b[0;34m=\u001b[0m \u001b[0mnp\u001b[0m\u001b[0;34m.\u001b[0m\u001b[0mload\u001b[0m\u001b[0;34m(\u001b[0m\u001b[0mfile\u001b[0m\u001b[0;34m=\u001b[0m\u001b[0mdataFilename\u001b[0m\u001b[0;34m)\u001b[0m\u001b[0;34m\u001b[0m\u001b[0m\n\u001b[0m\u001b[1;32m     13\u001b[0m \u001b[0mx\u001b[0m \u001b[0;34m=\u001b[0m \u001b[0mloadRes\u001b[0m\u001b[0;34m[\u001b[0m\u001b[0;34m\"x\"\u001b[0m\u001b[0;34m]\u001b[0m\u001b[0;34m\u001b[0m\u001b[0m\n\u001b[1;32m     14\u001b[0m \u001b[0my\u001b[0m \u001b[0;34m=\u001b[0m \u001b[0mloadRes\u001b[0m\u001b[0;34m[\u001b[0m\u001b[0;34m\"y\"\u001b[0m\u001b[0;34m]\u001b[0m\u001b[0;34m\u001b[0m\u001b[0m\n",
      "\u001b[0;32m/usr/lib/python3/dist-packages/numpy/lib/npyio.py\u001b[0m in \u001b[0;36mload\u001b[0;34m(file, mmap_mode, allow_pickle, fix_imports, encoding)\u001b[0m\n\u001b[1;32m    360\u001b[0m     \u001b[0mown_fid\u001b[0m \u001b[0;34m=\u001b[0m \u001b[0;32mFalse\u001b[0m\u001b[0;34m\u001b[0m\u001b[0m\n\u001b[1;32m    361\u001b[0m     \u001b[0;32mif\u001b[0m \u001b[0misinstance\u001b[0m\u001b[0;34m(\u001b[0m\u001b[0mfile\u001b[0m\u001b[0;34m,\u001b[0m \u001b[0mbasestring\u001b[0m\u001b[0;34m)\u001b[0m\u001b[0;34m:\u001b[0m\u001b[0;34m\u001b[0m\u001b[0m\n\u001b[0;32m--> 362\u001b[0;31m         \u001b[0mfid\u001b[0m \u001b[0;34m=\u001b[0m \u001b[0mopen\u001b[0m\u001b[0;34m(\u001b[0m\u001b[0mfile\u001b[0m\u001b[0;34m,\u001b[0m \u001b[0;34m\"rb\"\u001b[0m\u001b[0;34m)\u001b[0m\u001b[0;34m\u001b[0m\u001b[0m\n\u001b[0m\u001b[1;32m    363\u001b[0m         \u001b[0mown_fid\u001b[0m \u001b[0;34m=\u001b[0m \u001b[0;32mTrue\u001b[0m\u001b[0;34m\u001b[0m\u001b[0m\n\u001b[1;32m    364\u001b[0m     \u001b[0;32melse\u001b[0m\u001b[0;34m:\u001b[0m\u001b[0;34m\u001b[0m\u001b[0m\n",
      "\u001b[0;31mFileNotFoundError\u001b[0m: [Errno 2] No such file or directory: '../figScriptsRamussenAndWilliams06/ch2/results/dataFig2_5_l1.00_sf1.00_sn0.10.npz'"
     ]
    }
   ],
   "source": [
    "trueL = 1.0\n",
    "trueSf = 1.0\n",
    "trueSn = 0.1\n",
    "l0 = 1.3\n",
    "sf0 = 1.0\n",
    "sn0 = 0.5\n",
    "minimizeMethod = 'BFGS'\n",
    "dataFilenamePattern = \"../figScriptsRamussenAndWilliams06/ch2/results/dataFig2_5_l%.2f_sf%.2f_sn%.2f.npz\"\n",
    "\n",
    "\n",
    "dataFilename = dataFilenamePattern%(trueL, trueSf, trueSn)\n",
    "loadRes = np.load(file=dataFilename)\n",
    "x = loadRes[\"x\"]\n",
    "y = loadRes[\"y\"]"
   ]
  },
  {
   "cell_type": "markdown",
   "metadata": {},
   "source": [
    "# Choose one kernel (i.e., execute only one of the two following cells; the data was generated using MySquaredExponentialKernel, so the minimization should achieve a lower value for this kernel):"
   ]
  },
  {
   "cell_type": "code",
   "execution_count": 4,
   "metadata": {},
   "outputs": [],
   "source": [
    "class MySquaredExponentialKernel(Kernel):\n",
    "\n",
    "    def _k(self, x1, x2, params):\n",
    "        l = params[0]\n",
    "        s2f = params[1]**2\n",
    "        s2n = params[2]**2\n",
    "        answer = s2f*math.exp(-1/(2*l**2)*(x2-x1)**2)\n",
    "\n",
    "        if x1==x2:\n",
    "            answer = answer + s2n\n",
    "        return answer\n",
    "\n",
    "    def _kGrad(self, x1, x2, params):\n",
    "        l = params[0]\n",
    "        sf = params[1]\n",
    "        sn = params[2]\n",
    "\n",
    "        dl = sf**2/l**3*(x1-x2)**2*math.exp(-1/(2*l**2)*(x1-x2)**2)\n",
    "        dsf = 2*math.exp(-1/(2*l**2)*(x1-x2)**2)*sf\n",
    "        dsn = 2*(1 if x1==x2 else 0)*sn\n",
    "        answer = np.array([dl, dsf, dsn])\n",
    "\n",
    "        return(answer)\n",
    "\n",
    "kernel = MySquaredExponentialKernel()"
   ]
  },
  {
   "cell_type": "code",
   "execution_count": 3,
   "metadata": {},
   "outputs": [],
   "source": [
    "class MyPeriodicRandomFunctionKernel(Kernel):\n",
    "\n",
    "    def _k(self, x1, x2, params):\n",
    "        l = params[0]\n",
    "        s2f = params[1]**2\n",
    "        s2n = params[2]**2\n",
    "        answer = s2f*math.exp(-(2*math.sin((x2-x1)/2)**2)/l**2)\n",
    "\n",
    "        if x1==x2:\n",
    "            answer = answer + s2n\n",
    "        return answer\n",
    "\n",
    "    def _kGrad(self, x1, x2, params):\n",
    "        l = params[0]\n",
    "        sf = params[1]\n",
    "        sn = params[2]\n",
    "\n",
    "        dl = sf**2*math.exp(-(2*math.sin((x2-x1)/2)**2)/l**2)*4*math.sin((x2-x1)/2)**2/l**3\n",
    "        dsf = 2*sf*math.exp(-(2*math.sin((x2-x1)/2)**2)/l**2)\n",
    "        dsn = 2*(1 if x1==x2 else 0)*sn\n",
    "        answer = np.array([dl, dsf, dsn])\n",
    "\n",
    "        return(answer)\n",
    "\n",
    "kernel = MyPeriodicRandomFunctionKernel()    "
   ]
  },
  {
   "cell_type": "markdown",
   "metadata": {},
   "source": [
    "# Estimate kernel parameters:"
   ]
  },
  {
   "cell_type": "code",
   "execution_count": 4,
   "metadata": {},
   "outputs": [
    {
     "name": "stdout",
     "output_type": "stream",
     "text": [
      "evaluation at (1.4153, -0.4823)\n",
      "evaluation at (1.4646, -0.4400)\n",
      "evaluation at (1.4616, -0.4263)\n",
      "evaluation at (1.4510, -0.4237)\n",
      "evaluation at (1.4532, -0.4246)\n",
      "evaluation at (1.4530, -0.4246)\n",
      "evaluation at (1.4530, -0.4246)\n",
      "evaluation at (1.4530, -0.4246)\n",
      "Optimization terminated successfully.\n",
      "         Current function value: 15.387580\n",
      "         Iterations: 8\n",
      "         Function evaluations: 11\n",
      "         Gradient evaluations: 11\n"
     ]
    }
   ],
   "source": [
    "ml = GPMarginalLogLikelihood(x=x, y=y, kernel=kernel)\n",
    "optimizationTrajectory = [np.array([l0,sf0,sn0])]\n",
    "\n",
    "def callbackFun(xk):\n",
    "    print(\"evaluation at (%.4f, %.4f)\"%(xk[0], xk[2]))\n",
    "    optimizationTrajectory.append(xk)\n",
    "def evalWrapper(params, sign=1.0):\n",
    "    return sign*ml.eval(params=params)\n",
    "def evalGradientWrapper(params, sign=1.0):\n",
    "    return sign*ml.evalGradient(params=params)\n",
    "x0 = np.array([l0, sf0, sn0])\n",
    "res = minimize(fun=evalWrapper, x0=x0, method=minimizeMethod,\n",
    "               jac=evalGradientWrapper, args=(-1.0), \n",
    "               callback=callbackFun, options={'disp': True})"
   ]
  },
  {
   "cell_type": "markdown",
   "metadata": {},
   "source": [
    "# Plot estimation results:"
   ]
  },
  {
   "cell_type": "code",
   "execution_count": 5,
   "metadata": {},
   "outputs": [
    {
     "data": {
      "text/plain": [
       "Text(0,0.5,'noise standard deviation')"
      ]
     },
     "execution_count": 5,
     "metadata": {},
     "output_type": "execute_result"
    },
    {
     "data": {
      "image/png": "[encoded data removed]",
      "text/plain": [
       "<matplotlib.figure.Figure at 0x7f30f072c358>"
      ]
     },
     "metadata": {
      "needs_background": "light"
     },
     "output_type": "display_data"
    }
   ],
   "source": [
    "nSamplePointsPerAxis = 50\n",
    "snStart = -2.5\n",
    "snStop = 0.5\n",
    "lStart = -1.0\n",
    "lStop = 2.0\n",
    "nLevels = 30\n",
    "tooSmallThr = -60\n",
    "annotateColor = 'red'\n",
    "xlabel = 'characteristic lengthscale'\n",
    "ylabel = 'noise standard deviation'\n",
    "\n",
    "nSnPoints = nSamplePointsPerAxis\n",
    "nLPoints = nSamplePointsPerAxis\n",
    "optimizationTrajectory = np.array(optimizationTrajectory)\n",
    "sns = np.logspace(start=snStart, stop=snStop, num=nSnPoints)\n",
    "ls = np.logspace(start=lStart, stop=lStop, num=nLPoints)\n",
    "mls = np.empty(shape=(len(sns), len(ls)))\n",
    "mls[:] = np.nan\n",
    "sf = trueSf\n",
    "\n",
    "for i in range(len(sns)):\n",
    "    sn = sns[i]\n",
    "    for j in range(len(ls)):\n",
    "        l = ls[j]\n",
    "        params = np.array([l, sf, sn])\n",
    "        mls[i, j] = ml.eval(params=params)\n",
    "tooSmallIndices = np.where(mls<tooSmallThr)\n",
    "mls[tooSmallIndices] = tooSmallThr\n",
    "\n",
    "x = ls\n",
    "y = sns\n",
    "[X, Y] = np.meshgrid(x, y)\n",
    "Z = mls\n",
    "cp = plt.contour(X, Y, Z, nLevels)\n",
    "plt.plot([trueL], [trueSn], marker='*', color='red')\n",
    "plt.plot(abs(optimizationTrajectory[:,0]),\n",
    "         abs(optimizationTrajectory[:,2]),\n",
    "         color=\"red\", marker=\"o\", linestyle=\"-\")\n",
    "plt.xscale('log')\n",
    "plt.yscale('log')\n",
    "plt.xlabel(xlabel)\n",
    "plt.ylabel(ylabel)"
   ]
  },
  {
   "cell_type": "code",
   "execution_count": null,
   "metadata": {},
   "outputs": [],
   "source": []
  }
 ],
 "metadata": {
  "kernelspec": {
   "display_name": "Python 3",
   "language": "python",
   "name": "python3"
  },
  "language_info": {
   "codemirror_mode": {
    "name": "ipython",
    "version": 3
   },
   "file_extension": ".py",
   "mimetype": "text/x-python",
   "name": "python",
   "nbconvert_exporter": "python",
   "pygments_lexer": "ipython3",
   "version": "3.5.2"
  }
 },
 "nbformat": 4,
 "nbformat_minor": 2
}
